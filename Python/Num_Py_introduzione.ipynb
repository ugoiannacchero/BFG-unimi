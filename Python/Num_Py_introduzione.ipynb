{
 "cells": [
  {
   "cell_type": "markdown",
   "id": "bbf49a55-7948-4000-8e08-e2cd3d2f2c3d",
   "metadata": {},
   "source": [
    "## Numpy (Numerical Python) intro:"
   ]
  },
  {
   "cell_type": "markdown",
   "id": "af67851b-25dc-4332-b095-bca1d20538c4",
   "metadata": {},
   "source": [
    "Numpy è una libreria di python creata per lavorare con gli array.\n",
    "\n",
    "Gli array di base sono molto simili alle liste, ma ci danno delle potenzialità in più.\n",
    "\n",
    "Numpy ci dà la possibilità di lavorare sempre con le liste, che qui sono chiamate array ma in maniera molto più veloce.\n",
    "\n",
    "Numpy è la base per Pandas, Matplotlib, Scipy, ecc..."
   ]
  },
  {
   "cell_type": "code",
   "execution_count": 1,
   "id": "8769b924-8e53-4dfe-b0c8-1643632dba83",
   "metadata": {},
   "outputs": [],
   "source": [
    "import numpy as np"
   ]
  },
  {
   "cell_type": "code",
   "execution_count": 2,
   "id": "ccd54f3d-5efb-4679-a1c7-375fdd27fbec",
   "metadata": {},
   "outputs": [],
   "source": [
    "array = np.array([1,2,3,4,5])"
   ]
  },
  {
   "cell_type": "code",
   "execution_count": 3,
   "id": "1850d58a-9a41-421e-849e-d8bba32946eb",
   "metadata": {},
   "outputs": [
    {
     "name": "stdout",
     "output_type": "stream",
     "text": [
      "[1 2 3 4 5]\n"
     ]
    }
   ],
   "source": [
    "print(array)"
   ]
  },
  {
   "cell_type": "code",
   "execution_count": 4,
   "id": "7ada68b5-5de8-467c-889f-9e515ebb40cd",
   "metadata": {},
   "outputs": [],
   "source": [
    "lista = [1,2,3,4,5]"
   ]
  },
  {
   "cell_type": "code",
   "execution_count": 5,
   "id": "fb7e9a9c-2324-4dd8-a45a-d98d67a50f0d",
   "metadata": {},
   "outputs": [
    {
     "name": "stdout",
     "output_type": "stream",
     "text": [
      "[1, 2, 3, 4, 5]\n"
     ]
    }
   ],
   "source": [
    "print(lista)"
   ]
  },
  {
   "cell_type": "markdown",
   "id": "1df7df9a-10e5-4ef5-9a76-089c467f8225",
   "metadata": {},
   "source": [
    "La differenza è che nelle liste, i valori sono separati dalla virgola. Mentre invece gli array no. E come detto precedentemente gli array sono molto più veloci nel calcolo."
   ]
  },
  {
   "cell_type": "code",
   "execution_count": 6,
   "id": "de5d76d5-62f7-4112-a9fd-b8eea61478fc",
   "metadata": {},
   "outputs": [
    {
     "name": "stdout",
     "output_type": "stream",
     "text": [
      "[1, 2, 3, 4, 5, 1, 2, 3, 4, 5, 1, 2, 3, 4, 5, 1, 2, 3, 4, 5, 1, 2, 3, 4, 5]\n"
     ]
    }
   ],
   "source": [
    "print(lista*5)"
   ]
  },
  {
   "cell_type": "code",
   "execution_count": 7,
   "id": "aeea7e63-9471-4b7e-9c0d-339049284f05",
   "metadata": {},
   "outputs": [
    {
     "name": "stdout",
     "output_type": "stream",
     "text": [
      "[ 5 10 15 20 25]\n"
     ]
    }
   ],
   "source": [
    "print(array*5)"
   ]
  },
  {
   "cell_type": "markdown",
   "id": "0e34df71-f545-4a00-8177-db7886e50de9",
   "metadata": {},
   "source": [
    "Si può notare come le lista se moltiplicata per 5, duplica 5 volte i suoi valori.\n",
    "\n",
    "Mentre invece gli array, permettono di moltiplicare i valori per 5."
   ]
  },
  {
   "cell_type": "code",
   "execution_count": 8,
   "id": "8cea0675-61fa-4a7f-98c8-22706f1707b2",
   "metadata": {},
   "outputs": [
    {
     "ename": "TypeError",
     "evalue": "can only concatenate list (not \"int\") to list",
     "output_type": "error",
     "traceback": [
      "\u001b[0;31m---------------------------------------------------------------------------\u001b[0m",
      "\u001b[0;31mTypeError\u001b[0m                                 Traceback (most recent call last)",
      "Cell \u001b[0;32mIn[8], line 1\u001b[0m\n\u001b[0;32m----> 1\u001b[0m \u001b[38;5;28mprint\u001b[39m(\u001b[43mlista\u001b[49m\u001b[38;5;241;43m+\u001b[39;49m\u001b[38;5;241;43m5\u001b[39;49m)\n",
      "\u001b[0;31mTypeError\u001b[0m: can only concatenate list (not \"int\") to list"
     ]
    }
   ],
   "source": [
    "print(lista+5)"
   ]
  },
  {
   "cell_type": "code",
   "execution_count": null,
   "id": "287017b3-ec86-463b-a278-cdc5b57d098a",
   "metadata": {},
   "outputs": [],
   "source": [
    "print(array*5)"
   ]
  },
  {
   "cell_type": "markdown",
   "id": "595cc234-3dfb-43ff-8e53-de081f8ddcaf",
   "metadata": {},
   "source": [
    "Questa è la vera differenza tra liste e array. Con le liste non possiamo effettuare le operazioni matematiche mentre con gli array si."
   ]
  },
  {
   "cell_type": "markdown",
   "id": "242cafdf-80fb-4092-9638-ecd0069746be",
   "metadata": {},
   "source": [
    "Array ZERO DIMENSIONI: Contiene solo un valore"
   ]
  },
  {
   "cell_type": "code",
   "execution_count": null,
   "id": "10dfcfe9-aef8-4022-a08b-555dfa972417",
   "metadata": {},
   "outputs": [],
   "source": [
    "arr0D = np.array(1)"
   ]
  },
  {
   "cell_type": "code",
   "execution_count": null,
   "id": "2a395b3a-12b4-4ff9-ad62-803875a92c3c",
   "metadata": {},
   "outputs": [],
   "source": [
    "print(arr0D)"
   ]
  },
  {
   "cell_type": "markdown",
   "id": "cd179f81-ff2a-4e71-894b-4112140ad594",
   "metadata": {},
   "source": [
    "Array UNA DIMENSIONE"
   ]
  },
  {
   "cell_type": "code",
   "execution_count": null,
   "id": "e4147d31-f5e8-401e-aefa-9240a8347260",
   "metadata": {},
   "outputs": [],
   "source": [
    "arr1D = np.array([1,2,3,4,5,6])"
   ]
  },
  {
   "cell_type": "code",
   "execution_count": null,
   "id": "72546705-0d83-41d1-b3ad-6def3c4c1765",
   "metadata": {},
   "outputs": [],
   "source": [
    "print(arr1D)"
   ]
  },
  {
   "cell_type": "code",
   "execution_count": null,
   "id": "eec47520-5d7d-4eca-b105-1f635b637b11",
   "metadata": {},
   "outputs": [],
   "source": [
    "arr1D.ndim #vedere la dimensione di un array"
   ]
  },
  {
   "cell_type": "markdown",
   "id": "39286648-62d0-4b26-adfb-f39ba4fb89c7",
   "metadata": {},
   "source": [
    "Array DUE DIMENSIONI: è un [array che contiene [array]]"
   ]
  },
  {
   "cell_type": "code",
   "execution_count": null,
   "id": "b03f32fd-ed13-4360-b55c-9f7e50c299d8",
   "metadata": {},
   "outputs": [],
   "source": [
    "arr2D = np.array([[1,2,3],\n",
    "                  [4,5,6]])"
   ]
  },
  {
   "cell_type": "code",
   "execution_count": null,
   "id": "d50da9e0-c1b8-4147-828d-7b7c89f932ac",
   "metadata": {
    "scrolled": true
   },
   "outputs": [],
   "source": [
    "arr2D"
   ]
  },
  {
   "cell_type": "code",
   "execution_count": null,
   "id": "40fcb19d-07cc-4132-909b-632f3204f462",
   "metadata": {},
   "outputs": [],
   "source": [
    " arr2D.ndim #vedere la dimensione di un array"
   ]
  },
  {
   "cell_type": "markdown",
   "id": "9f5ff821-236b-4f5e-9d28-01c2ee8cbe0a",
   "metadata": {},
   "source": [
    "Array TRE DIMENSIONI: è un [[[array che al suo interno contiene degli [array,che al suo interno contiene degli array]]]"
   ]
  },
  {
   "cell_type": "code",
   "execution_count": null,
   "id": "b563e3ac-edf1-4f9f-b57c-527be5b5d266",
   "metadata": {},
   "outputs": [],
   "source": [
    "arr3D = np.array([\n",
    "                  [[1,2,3],[4,5,6]],\n",
    "                  [[7,8,9],[10,11,12]]\n",
    "                 ])"
   ]
  },
  {
   "cell_type": "code",
   "execution_count": null,
   "id": "a69b82c3-f37d-448d-a87d-66f02c661893",
   "metadata": {},
   "outputs": [],
   "source": [
    "print(arr3D)"
   ]
  },
  {
   "cell_type": "code",
   "execution_count": null,
   "id": "44f21b98-5ca8-43c3-bd20-8258f7770a66",
   "metadata": {},
   "outputs": [],
   "source": [
    "arr3D.ndim #vedere la dimensione di un array"
   ]
  },
  {
   "cell_type": "markdown",
   "id": "eb6a54cd-1b25-4c8d-be4c-6790686edcc7",
   "metadata": {},
   "source": [
    "Creare in modo breve un array con n dimensioni:"
   ]
  },
  {
   "cell_type": "code",
   "execution_count": null,
   "id": "ede08db7-2372-4cc1-97d9-2e4cb9d1e7c2",
   "metadata": {},
   "outputs": [],
   "source": [
    "arr5 = np.array([1,2,3], ndmin=5) # ndmin -> fai un array di 5 dimensioni"
   ]
  },
  {
   "cell_type": "code",
   "execution_count": null,
   "id": "b9cd23b5-e976-40cd-860d-fc294687d9bd",
   "metadata": {},
   "outputs": [],
   "source": [
    "print(arr5)"
   ]
  },
  {
   "cell_type": "code",
   "execution_count": null,
   "id": "a3253e08-1db1-4182-b8a5-0d4162daec9d",
   "metadata": {},
   "outputs": [],
   "source": [
    "arr5.ndim"
   ]
  },
  {
   "cell_type": "markdown",
   "id": "ca219963-bb35-4d63-abb4-edee264ec54b",
   "metadata": {},
   "source": [
    "Creare velocemente un array con np.arange, in cui io gli dico da che numero partire, a che numero arrivare e quanti step fare."
   ]
  },
  {
   "cell_type": "code",
   "execution_count": null,
   "id": "823de164-9532-4159-8f4d-5957e211588f",
   "metadata": {},
   "outputs": [],
   "source": [
    "arrArange = np.arange(5,50,5) #mi crei un array che parte da 5 arriva a 50 facendo salti di 5."
   ]
  },
  {
   "cell_type": "code",
   "execution_count": null,
   "id": "9cf3f82d-540c-452c-9f37-a0bc7ebf3937",
   "metadata": {},
   "outputs": [],
   "source": [
    "print(arrArange)"
   ]
  },
  {
   "cell_type": "code",
   "execution_count": null,
   "id": "eb13e5e0-0d8b-442e-a9ad-4ebaf619abec",
   "metadata": {},
   "outputs": [],
   "source": [
    "arrArange = np.arange(3,30) #mi crei un array che parte da 3 e arriva a 30. NO STEPS"
   ]
  },
  {
   "cell_type": "code",
   "execution_count": null,
   "id": "f6b7a5ce-040f-4d76-83ef-ad3b911e1ffe",
   "metadata": {},
   "outputs": [],
   "source": [
    "print(arrArange)"
   ]
  },
  {
   "cell_type": "markdown",
   "id": "e8bf189d-06b3-4898-a158-e08fc579b8b1",
   "metadata": {},
   "source": [
    "Creare un array di zeri"
   ]
  },
  {
   "cell_type": "code",
   "execution_count": null,
   "id": "3038dcb8-1969-4e7c-97b6-17a3a553dce8",
   "metadata": {},
   "outputs": [],
   "source": [
    "arrZeros = np.zeros(3) #crea un array con n zero."
   ]
  },
  {
   "cell_type": "code",
   "execution_count": null,
   "id": "31981e2e-7404-461c-9c1a-ee7b1b867726",
   "metadata": {},
   "outputs": [],
   "source": [
    "print(arrZeros)"
   ]
  },
  {
   "cell_type": "code",
   "execution_count": null,
   "id": "bbf4b848-ad35-46ea-b0b4-1b2df97b4319",
   "metadata": {},
   "outputs": [],
   "source": [
    "arrZeros = np.zeros((3,5,4)) # crea un array con un array con uno zero nella 1a dimensione (tre array (matrici)),\n",
    "                             # cinque nella seconda dimensione, i 5 zero per colonna,\n",
    "                             # quattro nella terza dimensione, i 4 zero per riga."
   ]
  },
  {
   "cell_type": "code",
   "execution_count": null,
   "id": "1d8824bc-384a-45d7-a893-5ef3d169baf6",
   "metadata": {},
   "outputs": [],
   "source": [
    "print(arrZeros)"
   ]
  },
  {
   "cell_type": "code",
   "execution_count": null,
   "id": "534d4d1e-2a4f-4f8b-ba2b-eae3cb816992",
   "metadata": {},
   "outputs": [],
   "source": [
    "arrOnes = np.ones((5,4,2)) # crea un array con 5 dimensioni (5 array),\n",
    "                           # con 4 uno nella seconda dimensione, 4 uno per colonna\n",
    "                           # 2 uno nella terza dimensione, 2 uno per riga."
   ]
  },
  {
   "cell_type": "code",
   "execution_count": null,
   "id": "781bd531-5efb-4535-aa1d-f279efb1e574",
   "metadata": {},
   "outputs": [],
   "source": [
    "print(arrOnes)"
   ]
  },
  {
   "cell_type": "markdown",
   "id": "a49da0ed-244a-4474-9ecb-eabb1c6c4c9b",
   "metadata": {},
   "source": [
    "## Indicizzazione degli array:"
   ]
  },
  {
   "cell_type": "code",
   "execution_count": null,
   "id": "66b59fba-8886-4b55-8520-1b00a648b0cf",
   "metadata": {},
   "outputs": [],
   "source": [
    "arr1D = np.array([1,2,3,4,5])"
   ]
  },
  {
   "cell_type": "code",
   "execution_count": null,
   "id": "60144270-2162-46d9-8e3d-210fb11b6a25",
   "metadata": {},
   "outputs": [],
   "source": [
    "arr1D[4]"
   ]
  },
  {
   "cell_type": "code",
   "execution_count": null,
   "id": "ee78a942-215c-47f3-88bb-1b0b20147ead",
   "metadata": {},
   "outputs": [],
   "source": [
    "arr2D = np.array([[1,2,3],\n",
    "                  [4,5,6]])"
   ]
  },
  {
   "cell_type": "markdown",
   "id": "dfa2e75e-4781-49af-93a9-5c2138725ba8",
   "metadata": {},
   "source": [
    "Vogliamo prendere il numero 3:"
   ]
  },
  {
   "cell_type": "code",
   "execution_count": null,
   "id": "6b48d0dd-4295-44c7-aba8-aa7c88ee4b44",
   "metadata": {},
   "outputs": [],
   "source": [
    "arr2D[0,2] # obbiettivo printare il 3:\n",
    "           # prendo la 1 dimensione che è 0\n",
    "           # prendo il il 3 all'interno della 1a dimensione che ha indice 2."
   ]
  },
  {
   "cell_type": "code",
   "execution_count": null,
   "id": "74c04a99-61a0-472f-a320-a515a888a1a0",
   "metadata": {},
   "outputs": [],
   "source": [
    "#Obiettivo prendere il 6:\n",
    "\n",
    "arr2D[1,2]"
   ]
  },
  {
   "cell_type": "code",
   "execution_count": null,
   "id": "3b7c85a1-f57f-43ee-b7b5-5341580fb2ab",
   "metadata": {},
   "outputs": [],
   "source": [
    "#Obiettivo prendere il 2,4,5.\n",
    "\n",
    "arr2D[0,1] "
   ]
  },
  {
   "cell_type": "code",
   "execution_count": null,
   "id": "41ab24f3-2f16-4927-9b2c-aadb46284f42",
   "metadata": {},
   "outputs": [],
   "source": [
    "arr2D[1,0]"
   ]
  },
  {
   "cell_type": "code",
   "execution_count": null,
   "id": "3b8cf68f-6f99-4eb9-bb13-b06d171f90c1",
   "metadata": {},
   "outputs": [],
   "source": [
    "arr2D[1,1]"
   ]
  },
  {
   "cell_type": "code",
   "execution_count": null,
   "id": "d154f4e1-c450-4cb2-b493-88c16832cc5e",
   "metadata": {},
   "outputs": [],
   "source": [
    "arr3D = np.array([ [[1,2,3],[4,5,6]],\n",
    "                  [[7,8,9],[10,11,12]]])\n",
    "\n",
    "\n",
    "# In pratica, la 1a dimensione ce la da il numero di array (matrici presenti) in questo caso sono due. Quindi:\n",
    "\n",
    "# Nella prima dimensione l'indice 0 è per [[1,2,3],[4,5,6]]\n",
    "# Mentre nella 1a dimensione l'indice 1 è per [[7,8,9],[10,11,12]]\n",
    "\n",
    "# Per quanto riguarda la seconda dimensione, l'indice 0 sta per [1,2,3] o [7,8,9] a seconda della 1a dimensione scelta.\n",
    "\n",
    "#Infine per selezionare il 10 all'interno di [10,11,12] usiamo l'indice 0.\n",
    "\n",
    "#Recapitolando: scelgo la prima dimensione che mi interessa (in questo caso sono due array (matrici con 0 / 1) e io prendo la seconda quindi 1.\n",
    "# Scelgo la seconda dimensione selezionando [10,11,12] piuttosto che [7,8,9]. prendendo indice 1.\n",
    "# Scelgo la terza dimensione selezionando solo il 10 all'interno di [10,11,12] selezionando 0.\n",
    "\n",
    "# arr3D[1,1,0]"
   ]
  },
  {
   "cell_type": "code",
   "execution_count": null,
   "id": "19dbdfd9-630e-436f-98af-6d4588609c33",
   "metadata": {},
   "outputs": [],
   "source": [
    "arr3D.ndim"
   ]
  },
  {
   "cell_type": "code",
   "execution_count": null,
   "id": "536aaced-6235-481e-ad5a-7337cb06bc5d",
   "metadata": {},
   "outputs": [],
   "source": [
    "#obbiettivo prendere il 10:"
   ]
  },
  {
   "cell_type": "code",
   "execution_count": null,
   "id": "34e23860-9d12-4fd2-9806-fe7122130581",
   "metadata": {},
   "outputs": [],
   "source": [
    "arr3D[1,1,0]"
   ]
  },
  {
   "cell_type": "markdown",
   "id": "426d5faf-99be-4148-a717-71f8e0c2161e",
   "metadata": {},
   "source": [
    "## Slicing degli array:"
   ]
  },
  {
   "cell_type": "code",
   "execution_count": null,
   "id": "a62b3c51-2cf9-4746-9340-72c7876d610e",
   "metadata": {},
   "outputs": [],
   "source": [
    "arr = np.array([1,2,3,4,5])"
   ]
  },
  {
   "cell_type": "code",
   "execution_count": null,
   "id": "c73b4fdc-4a84-4767-b4f9-a532eaaafc46",
   "metadata": {},
   "outputs": [],
   "source": [
    "# Prendere il 3:\n",
    "print(arr[2])\n",
    "\n",
    "print(arr[-3])"
   ]
  },
  {
   "cell_type": "markdown",
   "id": "7983577e-0639-4187-9182-cf914c0f17ca",
   "metadata": {},
   "source": [
    "Lo slicing serve per prendere da un indice all'altro. Da un index all'altro."
   ]
  },
  {
   "cell_type": "code",
   "execution_count": null,
   "id": "0a45d6b4-32ea-4eaa-99e7-fb9c02d75dff",
   "metadata": {},
   "outputs": [],
   "source": [
    "arr[0:2] # dall'indice 0 incluso, all'indice 2 (non incluso)"
   ]
  },
  {
   "cell_type": "code",
   "execution_count": null,
   "id": "ee05d1f2-30cc-403d-9d32-8a138f73d532",
   "metadata": {},
   "outputs": [],
   "source": [
    "arr[:] # dall'inizio fino alla fine"
   ]
  },
  {
   "cell_type": "code",
   "execution_count": null,
   "id": "04a4e835-48ac-40e0-b81e-387566886b4c",
   "metadata": {},
   "outputs": [],
   "source": [
    "arr[:3] # dall'inizio fino all'indice 3"
   ]
  },
  {
   "cell_type": "code",
   "execution_count": null,
   "id": "53f0919a-bda6-4dfe-bddf-e61b500627b8",
   "metadata": {},
   "outputs": [],
   "source": [
    "arr[2:] # dall'indice 2 fino alla fine"
   ]
  },
  {
   "cell_type": "code",
   "execution_count": null,
   "id": "8d5bea01-1856-4c7e-a1de-ed1364674cbc",
   "metadata": {},
   "outputs": [],
   "source": [
    "arr[-2:] # dall'indice -2 fino alla fine"
   ]
  },
  {
   "cell_type": "code",
   "execution_count": null,
   "id": "75b70d16-f713-46e2-9b7a-6ace55927c74",
   "metadata": {},
   "outputs": [],
   "source": [
    "array[-4:-2] # dall'indice -4 all'indice -2"
   ]
  },
  {
   "cell_type": "code",
   "execution_count": null,
   "id": "8a9b32e2-6d6b-4944-8ca3-c9d77498b46d",
   "metadata": {},
   "outputs": [],
   "source": [
    "arr1 = np.arange(11)"
   ]
  },
  {
   "cell_type": "code",
   "execution_count": null,
   "id": "76bc6acc-d42c-4b31-9f78-9d32e106e6fa",
   "metadata": {},
   "outputs": [],
   "source": [
    "arr1"
   ]
  },
  {
   "cell_type": "code",
   "execution_count": null,
   "id": "24bb1c5e-254a-4141-b71d-c8b050941cab",
   "metadata": {},
   "outputs": [],
   "source": [
    "arr1[0:7:2] # da indice 0\n",
    "            # a indice 7\n",
    "            # mi salti ogni 2"
   ]
  },
  {
   "cell_type": "code",
   "execution_count": null,
   "id": "987f5799-fb11-48e0-9fa1-9666e8cb3949",
   "metadata": {},
   "outputs": [],
   "source": [
    "arr1[::2] # dall'inizio alla fine, step di due."
   ]
  },
  {
   "cell_type": "markdown",
   "id": "aa3eb23a-3c4e-46b7-a021-4af29b942ef3",
   "metadata": {},
   "source": [
    "Slicing array 3d"
   ]
  },
  {
   "cell_type": "code",
   "execution_count": null,
   "id": "ead4776c-701d-43ea-9f45-25a3ac86a8d1",
   "metadata": {},
   "outputs": [],
   "source": [
    "arr_3d = np.array([[\n",
    "                  [1,2,3],[4,5,6]],\n",
    "                  [[7,8,9],[10,11,12],\n",
    "                  ]])"
   ]
  },
  {
   "cell_type": "code",
   "execution_count": null,
   "id": "e843fd58-53a4-4910-ac22-7f65249f764b",
   "metadata": {},
   "outputs": [],
   "source": [
    "arr_3d.ndim"
   ]
  },
  {
   "cell_type": "code",
   "execution_count": null,
   "id": "11524083-b24f-4a62-bd7c-b0df795c8e4a",
   "metadata": {},
   "outputs": [],
   "source": [
    "#obiettivo selezione gli index degli array della seconda prima dimensione [7,8,9],[10,11,12]\n",
    "\n",
    "\n",
    "arr_3d[1,0:,0:3]"
   ]
  },
  {
   "cell_type": "code",
   "execution_count": null,
   "id": "73b4fb52-edf1-44d9-9dda-16e0df1b20e7",
   "metadata": {},
   "outputs": [],
   "source": [
    "#prendere 5,6,10 e 11\n",
    "\n",
    "arr_3d [0:,1,1:]"
   ]
  },
  {
   "cell_type": "code",
   "execution_count": null,
   "id": "4eaaf57d-e73b-4317-ade3-60e3d79a1b34",
   "metadata": {},
   "outputs": [],
   "source": [
    "arr_pari = np.array([\n",
    "                    [[0,1,2,3,4],[4,5,6,7,8]],\n",
    "                    [[7,8,9,10,11],[11,12,13,14,15]]\n",
    "])"
   ]
  },
  {
   "cell_type": "code",
   "execution_count": null,
   "id": "3f4329c0-046c-45f5-a3c6-f92c9cbf7577",
   "metadata": {},
   "outputs": [],
   "source": [
    "arr_pari.ndim"
   ]
  },
  {
   "cell_type": "code",
   "execution_count": null,
   "id": "df891cd1-2efc-4613-8471-2e1f315f91aa",
   "metadata": {},
   "outputs": [],
   "source": [
    "#voglio printare solo l'indice dei numeri pari di questo array 3d:\n",
    "\n",
    "arr_pari[0:,0:,::2]\n",
    "\n",
    "# 0: prendimi tutti gli array della 1a dimensione\n",
    "# 0: prendimi tutti gli array della 2nda dimensione\n",
    "# ::2 prendimi tutti gli indici della terza dimensione, facendo step di 2."
   ]
  },
  {
   "cell_type": "markdown",
   "id": "1787127a-49ee-4186-ae83-7ec887cbf80a",
   "metadata": {},
   "source": [
    "## Tipi di dati:"
   ]
  },
  {
   "cell_type": "markdown",
   "id": "7ad0c46a-c343-425e-a486-26a58f9c2063",
   "metadata": {},
   "source": [
    "Le variabili possono conservare dati di diverso tipo, e dati di diverso tipo possono fare cose diverse.\n",
    "\n",
    "Python ha i seguenti tipi di dati, che di default vengono classificati in:\n",
    "\n",
    "- Text Type:\t    str\n",
    "  \n",
    "- Numeric Types:\tint, float, complex\n",
    "\n",
    "- Sequence Types:\tlist, tuple, range\n",
    "\n",
    "- Mapping Type:\t    dict\n",
    "\n",
    "- Set Types:\t    set, frozenset\n",
    "\n",
    "- Boolean Type:   \tbool\n",
    "\n",
    "- Binary Types: \tbytes, bytearray, memoryview\n",
    "\n",
    "- None Type:    \tNoneType"
   ]
  },
  {
   "cell_type": "markdown",
   "id": "dc3ce65a-c558-490e-b6f6-1ed65453cfdf",
   "metadata": {},
   "source": [
    "Tipo di array-protocol per le stringhe (vedi Il protocollo dell'interfaccia dell'array)\r\n",
    "Il primo carattere specifica il tipo di dati e i caratteri restanti specificano il numero di byte per elemento, ad eccezione di Unicode, dove viene interpretato come il numero di caratteri. La dimensione dell'elemento deve corrispondere a un tipo di dati esistente, o verrà generato un errore. I tipi supportati sono:\n",
    "\n",
    "- boolean '?'\n",
    "\n",
    "- (signed) byte 'b'\n",
    "\n",
    "- unsigned byte 'B'\n",
    "\n",
    "- (signed) integer 'i'\n",
    "\n",
    "- unsigned integer 'u'\n",
    "\n",
    "- floating-point 'f'\n",
    "\n",
    "- complex-floating point 'c'\n",
    "\n",
    "- timedelta 'm'\n",
    "\n",
    "- datetime 'M'\n",
    "\n",
    "- (Python) objects 'O'\n",
    "\n",
    "- zero-terminated bytes (not recommended) 'S', 'a'\n",
    "\n",
    "- Unicode string 'U'\n",
    "\n",
    "- raw data (void) 'V'\n",
    "\n"
   ]
  },
  {
   "cell_type": "code",
   "execution_count": null,
   "id": "fb301c4d-cab8-4953-8213-4df24224c49b",
   "metadata": {},
   "outputs": [],
   "source": [
    "array1 = np.array([1,2,3,4,5])"
   ]
  },
  {
   "cell_type": "code",
   "execution_count": null,
   "id": "1ad0abf3-da69-404a-be57-ddf7a9becdc3",
   "metadata": {},
   "outputs": [],
   "source": [
    "array1.dtype"
   ]
  },
  {
   "cell_type": "code",
   "execution_count": null,
   "id": "c8015df2-c183-484c-a220-621641ee4ec3",
   "metadata": {},
   "outputs": [],
   "source": [
    "array2 = np.array([ 'a', 'b', 'c'])"
   ]
  },
  {
   "cell_type": "code",
   "execution_count": null,
   "id": "fd8c089e-ca30-4bee-991a-720c63fb4586",
   "metadata": {},
   "outputs": [],
   "source": [
    "array2.dtype"
   ]
  },
  {
   "cell_type": "code",
   "execution_count": null,
   "id": "01d55dbb-9cf0-4041-8390-3e2806edc35f",
   "metadata": {},
   "outputs": [],
   "source": [
    "array3 = np.array([1.1,2.2,3.3])"
   ]
  },
  {
   "cell_type": "code",
   "execution_count": null,
   "id": "515639ad-2d64-4004-968f-6a6501f16cf2",
   "metadata": {},
   "outputs": [],
   "source": [
    "array3.dtype"
   ]
  },
  {
   "cell_type": "code",
   "execution_count": null,
   "id": "00846776-2fe6-4561-b77b-4e2e43f735c4",
   "metadata": {},
   "outputs": [],
   "source": [
    "array4 = np.array([True, False, True])"
   ]
  },
  {
   "cell_type": "code",
   "execution_count": null,
   "id": "8b31d79a-0bd3-4d8d-b92f-28a06e0f9d05",
   "metadata": {},
   "outputs": [],
   "source": [
    "array4.dtype"
   ]
  },
  {
   "cell_type": "code",
   "execution_count": null,
   "id": "d6ea1c42-ceb0-4c55-9678-11a1c2befe16",
   "metadata": {},
   "outputs": [],
   "source": [
    "array = np.array([1,2,3,4,5], dtype = 'S')"
   ]
  },
  {
   "cell_type": "code",
   "execution_count": null,
   "id": "f97c39b3-4e24-4fd5-a229-dc76fdb06b4b",
   "metadata": {},
   "outputs": [],
   "source": [
    "array.dtype"
   ]
  },
  {
   "cell_type": "code",
   "execution_count": null,
   "id": "dc54eb7b-9e9e-4068-a0ce-cf89fa056bc6",
   "metadata": {},
   "outputs": [],
   "source": [
    "array"
   ]
  },
  {
   "cell_type": "code",
   "execution_count": null,
   "id": "83c532f0-1a48-4ae6-a614-68a9ca6d185c",
   "metadata": {},
   "outputs": [],
   "source": [
    "array = array.astype('i')"
   ]
  },
  {
   "cell_type": "code",
   "execution_count": null,
   "id": "7b8aadff-4e19-4fbe-ac7c-a05fa6b6efb4",
   "metadata": {},
   "outputs": [],
   "source": [
    "print(array+5)"
   ]
  },
  {
   "cell_type": "markdown",
   "id": "7f980504-56f3-43c5-89de-87fe3029e45b",
   "metadata": {},
   "source": [
    "## wiew e copy"
   ]
  },
  {
   "cell_type": "markdown",
   "id": "6f94bfa3-1558-432d-aaa2-108812eceff8",
   "metadata": {},
   "source": [
    "A livello teorico wiew e copy servono per fare la stessa cosa, ovvero copiare il contenuto di un array in un altro array."
   ]
  },
  {
   "cell_type": "markdown",
   "id": "c317da16-e4b4-4fe1-a23f-ab24a7f3606e",
   "metadata": {},
   "source": [
    "La differenza sostanziale è che mentre copy fa una copia effettiva dell'array.\n",
    "\n",
    "View è un pò una copia fittizia, quando modifico la copia io modifico la mia copia e modifico anche l'originale."
   ]
  },
  {
   "cell_type": "code",
   "execution_count": null,
   "id": "85d2b407-14c2-48ec-bdbd-42f16730f0fb",
   "metadata": {},
   "outputs": [],
   "source": [
    "array = np.array([1,2,3])"
   ]
  },
  {
   "cell_type": "code",
   "execution_count": null,
   "id": "ec2b5715-0c61-4ab5-941e-7845bad91e5f",
   "metadata": {},
   "outputs": [],
   "source": [
    "array_copy = array.copy()"
   ]
  },
  {
   "cell_type": "code",
   "execution_count": null,
   "id": "6b340c72-a27d-411d-9af4-8224b6cba0cc",
   "metadata": {},
   "outputs": [],
   "source": [
    "array"
   ]
  },
  {
   "cell_type": "code",
   "execution_count": null,
   "id": "6bf1b9f1-4f7c-4b14-9f4b-593e1886b450",
   "metadata": {},
   "outputs": [],
   "source": [
    "array_copy"
   ]
  },
  {
   "cell_type": "markdown",
   "id": "b199697b-9fcc-4c2a-a2f3-e2a0d0b5356f",
   "metadata": {},
   "source": [
    "Esempio copy:\n",
    "\n",
    "Se io modifico il mio array originale sostituendo l'1 all'indice 0 con 10, vedrò che sul mio array originale avrò 10, mentre sull'array copia no."
   ]
  },
  {
   "cell_type": "code",
   "execution_count": null,
   "id": "d87de9c7-995c-4c1e-97a8-f27f2cd1bf66",
   "metadata": {},
   "outputs": [],
   "source": [
    "array[0] = 10"
   ]
  },
  {
   "cell_type": "code",
   "execution_count": null,
   "id": "495f77c4-394b-43b7-a728-77ac1882436b",
   "metadata": {},
   "outputs": [],
   "source": [
    "array"
   ]
  },
  {
   "cell_type": "code",
   "execution_count": null,
   "id": "1b8e67b3-8d71-478a-8fe4-7bbaba7253f3",
   "metadata": {},
   "outputs": [],
   "source": [
    "array_copy"
   ]
  },
  {
   "cell_type": "markdown",
   "id": "1d969d9b-0f9e-4767-b3af-5522c99ab332",
   "metadata": {},
   "source": [
    "Esempio view:\n",
    "\n",
    "Dopo aver fatto view, se modifico l'array anche l'array view verrà modificato."
   ]
  },
  {
   "cell_type": "code",
   "execution_count": null,
   "id": "15ebc66c-cd79-4021-85c4-e825fe2f9ba5",
   "metadata": {},
   "outputs": [],
   "source": [
    "array_view = array.view()"
   ]
  },
  {
   "cell_type": "code",
   "execution_count": null,
   "id": "f05ff13e-6a4c-4a63-9ca3-4c1fecdc9e63",
   "metadata": {},
   "outputs": [],
   "source": [
    "array"
   ]
  },
  {
   "cell_type": "code",
   "execution_count": null,
   "id": "a5926359-cc18-4e18-af0a-2aab94e3cf8f",
   "metadata": {},
   "outputs": [],
   "source": [
    "array_view"
   ]
  },
  {
   "cell_type": "code",
   "execution_count": null,
   "id": "8a2ab79a-8395-4e6a-9012-63fd400c5f43",
   "metadata": {},
   "outputs": [],
   "source": [
    "array[0] = 222"
   ]
  },
  {
   "cell_type": "code",
   "execution_count": null,
   "id": "3dad72dd-3f7a-4e4e-8b4c-9496c04c47e0",
   "metadata": {},
   "outputs": [],
   "source": [
    "array"
   ]
  },
  {
   "cell_type": "code",
   "execution_count": null,
   "id": "0ce3b645-13a6-4354-977f-9b3927e70dc9",
   "metadata": {},
   "outputs": [],
   "source": [
    "array_view"
   ]
  },
  {
   "cell_type": "markdown",
   "id": "018db758-c3b4-4d94-8680-03bde459fcfa",
   "metadata": {},
   "source": [
    "Controllare la base degli array, il proprietario.\n",
    "\n",
    "Quando con base controllo se l'array è uguale a None.\n",
    "\n",
    "Devo ricordarmi che se esce True noi sappiamo che l'array è proprietario dei dati, diversamente no."
   ]
  },
  {
   "cell_type": "code",
   "execution_count": null,
   "id": "9d43db83-202f-4421-8339-e3959c6b31ea",
   "metadata": {},
   "outputs": [],
   "source": [
    "array.base == None"
   ]
  },
  {
   "cell_type": "code",
   "execution_count": null,
   "id": "45738d27-48c1-45a2-a7c5-39258b55660a",
   "metadata": {},
   "outputs": [],
   "source": [
    "array_view == None"
   ]
  },
  {
   "cell_type": "markdown",
   "id": "6c8b24cf-3bb4-4b48-8217-b348877423d1",
   "metadata": {},
   "source": [
    "## Shape e Reshape:"
   ]
  },
  {
   "cell_type": "markdown",
   "id": "e580735f-89f9-404d-9416-8a630af5e0bb",
   "metadata": {},
   "source": [
    "Con shape vediamo la forma dell'array, quanti array ci sono nella prima dimensione e nella seconda dimensione per esempio.\n",
    "\n",
    "Con reshape cambiamo la forma dell'array, ad esempio possiamo trasformare un array 2d in 1d o viceversa.\n",
    "E' importante usare delle combinazioni che possono essere uguali alla lunghezza dell'array corrispettiva.\n",
    "Se l'array ha 12 elementi, potrò fare 4x3 o 3x4 o 2x6 o 6x2."
   ]
  },
  {
   "cell_type": "code",
   "execution_count": null,
   "id": "55ff33e0-3178-47c3-a632-917afec17464",
   "metadata": {},
   "outputs": [],
   "source": [
    "array = np.array([1,2,3,4,5,6])"
   ]
  },
  {
   "cell_type": "code",
   "execution_count": null,
   "id": "3e0a2017-21ae-4956-8ca8-f3e8331d3477",
   "metadata": {},
   "outputs": [],
   "source": [
    "array.shape"
   ]
  },
  {
   "cell_type": "code",
   "execution_count": null,
   "id": "a5321221-b1ff-45fe-81b0-04ad7669a50d",
   "metadata": {},
   "outputs": [],
   "source": [
    "array = np.array([[1,2,3],\n",
    "                  [4,5,6]])"
   ]
  },
  {
   "cell_type": "code",
   "execution_count": null,
   "id": "786c2d32-4f6a-4728-b645-d0a64f75723c",
   "metadata": {},
   "outputs": [],
   "source": [
    "array.shape"
   ]
  },
  {
   "cell_type": "code",
   "execution_count": null,
   "id": "2c1a01cd-0e6a-41bf-b5d2-9ee789aff602",
   "metadata": {},
   "outputs": [],
   "source": [
    "array.reshape(-1) #fa tornare l'array da due dimensioni a una dimensione."
   ]
  },
  {
   "cell_type": "code",
   "execution_count": null,
   "id": "682b3d31-78f7-4fc0-b219-2cd23ca1ec74",
   "metadata": {},
   "outputs": [],
   "source": [
    "array = np.arange(1,13)"
   ]
  },
  {
   "cell_type": "code",
   "execution_count": null,
   "id": "f0594369-90da-4be0-975e-980bec34d959",
   "metadata": {},
   "outputs": [],
   "source": [
    "array"
   ]
  },
  {
   "cell_type": "code",
   "execution_count": null,
   "id": "47cf5c7b-4936-4130-a15e-e4b144aa5b60",
   "metadata": {},
   "outputs": [],
   "source": [
    "array.reshape(4,3) #mi crea un array bidimensionale. In cui la 1 dimensione è 4 mentre la seconda è 3."
   ]
  },
  {
   "cell_type": "code",
   "execution_count": null,
   "id": "843765fa-50c8-4334-9618-6c318ff38076",
   "metadata": {},
   "outputs": [],
   "source": [
    "array = np.arange (1,19)"
   ]
  },
  {
   "cell_type": "code",
   "execution_count": null,
   "id": "0299cf71-149b-45d5-896a-1a60aad66ed2",
   "metadata": {},
   "outputs": [],
   "source": [
    "array"
   ]
  },
  {
   "cell_type": "code",
   "execution_count": null,
   "id": "ebbc08cb-c7e9-4ec2-8944-20f2b83901ea",
   "metadata": {},
   "outputs": [],
   "source": [
    "array.reshape(2,3,3) # I 18 elementi li ridispongo in questo modo:\n",
    "                     # 2 array nella 1a dimensione\n",
    "                     # 3 array nella 2nda dimensione\n",
    "                     # 3 elementi per ciascuna ultima dimensione\n",
    "\n",
    "# 2 x 3 x 3 = 18"
   ]
  },
  {
   "cell_type": "code",
   "execution_count": null,
   "id": "a5774e37-2528-43ce-8a97-4de2ddbb7386",
   "metadata": {},
   "outputs": [],
   "source": [
    "array.reshape(3,1,6)\n",
    "\n",
    "# 3 x 1 x 6 = 18"
   ]
  },
  {
   "cell_type": "code",
   "execution_count": null,
   "id": "4fc93ae3-adff-4c8a-986e-714d95581267",
   "metadata": {},
   "outputs": [],
   "source": [
    "array.reshape(1,18,1)\n",
    "\n",
    "#1 x 18 x 1"
   ]
  },
  {
   "cell_type": "code",
   "execution_count": null,
   "id": "e55b96a9-75ce-47ef-a81e-cde517b48d3d",
   "metadata": {},
   "outputs": [],
   "source": [
    "array.reshape(9,1,2)\n",
    "\n",
    "#9 x 1 x 2 = 18"
   ]
  },
  {
   "cell_type": "markdown",
   "id": "a39f0057-b94a-48ae-a8b7-8e5485165ff7",
   "metadata": {},
   "source": [
    "Se avessimo una dimensione sconosciuta, non sappiamo cosa mettere in una dimensione. Possiamo usare il -1 per dire a numpy di calcolare in automatico quella dimensione."
   ]
  },
  {
   "cell_type": "code",
   "execution_count": null,
   "id": "04d5905f-029f-4a43-aebc-4f77c6406377",
   "metadata": {},
   "outputs": [],
   "source": [
    "array = np.arange(1,25)"
   ]
  },
  {
   "cell_type": "code",
   "execution_count": null,
   "id": "7327cca0-d3d3-4aa6-81fa-991cd487afa9",
   "metadata": {},
   "outputs": [],
   "source": [
    "array"
   ]
  },
  {
   "cell_type": "code",
   "execution_count": null,
   "id": "6ff64414-9e0d-4193-abb1-9423e3674038",
   "metadata": {},
   "outputs": [],
   "source": [
    "array.reshape(6,-1,4) # qui numpy ha calcolato la seconda dimensione ponendo 4\n",
    "\n",
    "# 6 x -1 x 4 = 24\n",
    "\n",
    "# -1 = 4"
   ]
  },
  {
   "cell_type": "markdown",
   "id": "a1dd8508-051b-453a-a9dc-0f54439fdf37",
   "metadata": {},
   "source": [
    "Per spianare un array abbiamo due alternative:\n",
    "\n",
    "- usare flatten\n",
    "\n",
    "- reshape(-1)"
   ]
  },
  {
   "cell_type": "code",
   "execution_count": null,
   "id": "37f01e1d-17f3-4f2e-81cb-3e64f55b6054",
   "metadata": {},
   "outputs": [],
   "source": [
    "array.flatten()"
   ]
  },
  {
   "cell_type": "code",
   "execution_count": null,
   "id": "92710176-3575-4d45-afc3-4626b164596a",
   "metadata": {},
   "outputs": [],
   "source": [
    "array.reshape(-1)"
   ]
  },
  {
   "cell_type": "markdown",
   "id": "ca9064e8-28fc-41df-abe3-aa533bff8bcb",
   "metadata": {},
   "source": [
    "## Iterare gli array:"
   ]
  },
  {
   "cell_type": "code",
   "execution_count": null,
   "id": "d7e3736d-ba62-4c39-b4d2-9d5e16045976",
   "metadata": {},
   "outputs": [],
   "source": [
    "array = np.arange(1,7)"
   ]
  },
  {
   "cell_type": "code",
   "execution_count": null,
   "id": "bf4d6f08-392a-4c8a-9ff6-4ee4e0c16b20",
   "metadata": {},
   "outputs": [],
   "source": [
    "for x in array:  #per ogni elemento di array mi mandi a schermo ogni singolo elemento\n",
    "    print(x)"
   ]
  },
  {
   "cell_type": "markdown",
   "id": "197bc9fe-223d-4ec3-bc8f-6570a81a323d",
   "metadata": {},
   "source": [
    "Fin qui tutto semplice ma le grane iniziano quando noi vogliamo utilizzare un ciclo for con array di più dimensioni."
   ]
  },
  {
   "cell_type": "code",
   "execution_count": null,
   "id": "cc7f5d71-4e9e-4e52-bcaa-ee40fa9775f1",
   "metadata": {},
   "outputs": [],
   "source": [
    "array = array.reshape(2,3,1)\n",
    "array"
   ]
  },
  {
   "cell_type": "code",
   "execution_count": null,
   "id": "0c5484d3-3dba-468d-959d-58ba2611628b",
   "metadata": {},
   "outputs": [],
   "source": [
    "for x in array: # 1a dimensione\n",
    "    for y in x: # 2a dimensione\n",
    "        for z in y: # 3a dimensione\n",
    "            print(z)"
   ]
  },
  {
   "cell_type": "markdown",
   "id": "0efe4759-41a4-4b4e-aebd-2b32147abf43",
   "metadata": {},
   "source": [
    "Ottengo tutto quello che printavo con una dimensione."
   ]
  },
  {
   "cell_type": "markdown",
   "id": "d045be91-df17-4be8-8c3f-2766523a26dc",
   "metadata": {},
   "source": [
    "Se volessimo fare tutto in una volta sola, possiammo usare nditer:"
   ]
  },
  {
   "cell_type": "code",
   "execution_count": null,
   "id": "b13d3ded-65e7-4f92-ac47-9cf304aead73",
   "metadata": {},
   "outputs": [],
   "source": [
    "for x in np.nditer(array):\n",
    "    print (x)"
   ]
  },
  {
   "cell_type": "markdown",
   "id": "1b9a925e-2c37-4524-b748-ac334a9a6ee3",
   "metadata": {},
   "source": [
    "Questo metodo di dà tante possibilità, come cambiare il tipo di dato in corsa."
   ]
  },
  {
   "cell_type": "code",
   "execution_count": null,
   "id": "55e8868b-5005-45eb-9fc5-94e4f875ddec",
   "metadata": {},
   "outputs": [],
   "source": [
    "for x in np.nditer(array,\n",
    "                   flags=['buffered'], # serve per utilizzare op_dtypes, va imparato così com'è\n",
    "                   op_dtypes ='S'):  # fa diventare il tipo di dato da int a 'S' (stringa)\n",
    "                                     # op_dtypes ci dice che il tipo di output non è più un intero ma una stringa \n",
    "    print (x)"
   ]
  },
  {
   "cell_type": "markdown",
   "id": "53c12356-9c3a-4afb-8be8-1efe9ae60eee",
   "metadata": {},
   "source": [
    "Proviamo a prendere i numeri dispari del primo array monodimensionale in un array bidimensionale:"
   ]
  },
  {
   "cell_type": "code",
   "execution_count": null,
   "id": "91eb100e-c81b-4055-b938-0e3faa9fdd12",
   "metadata": {},
   "outputs": [],
   "source": [
    "array = np.arange(1,11)"
   ]
  },
  {
   "cell_type": "code",
   "execution_count": null,
   "id": "c18bde74-2079-4fce-8747-7539a4d7140a",
   "metadata": {},
   "outputs": [],
   "source": [
    "array = array.reshape(2,5)"
   ]
  },
  {
   "cell_type": "code",
   "execution_count": null,
   "id": "145df795-f839-40da-8b87-082c23bb1209",
   "metadata": {},
   "outputs": [],
   "source": [
    "array"
   ]
  },
  {
   "cell_type": "code",
   "execution_count": null,
   "id": "142808e1-04ca-4fc7-a8dc-4f4a7d9334a7",
   "metadata": {},
   "outputs": [],
   "source": [
    "for x in np.nditer(array[0,::2]):\n",
    "    print(x)"
   ]
  },
  {
   "cell_type": "markdown",
   "id": "c485392d-35d3-4cbf-8a63-66790ccfc9e6",
   "metadata": {},
   "source": [
    "Utilizzando np.ndenumerate possiamo vedere gli index, con il corrispettivo elemento"
   ]
  },
  {
   "cell_type": "code",
   "execution_count": null,
   "id": "475c82b9-831a-485a-9482-af01d6890220",
   "metadata": {},
   "outputs": [],
   "source": [
    "for idx, x in np.ndenumerate(array):\n",
    "    print(idx,x)"
   ]
  },
  {
   "cell_type": "markdown",
   "id": "7d90252b-c4f2-4983-9224-086400f59c59",
   "metadata": {},
   "source": [
    "## Unire gli array:\n",
    "\n",
    "- concatenate array 1D e 2D\n",
    "\n",
    "- stack"
   ]
  },
  {
   "cell_type": "code",
   "execution_count": null,
   "id": "56a9e2c0-8e33-42f5-9824-5c9541d8e54f",
   "metadata": {},
   "outputs": [],
   "source": [
    "arr1 = np.arange(1,5)\n",
    "arr2 = np.arange(5,10)"
   ]
  },
  {
   "cell_type": "code",
   "execution_count": null,
   "id": "d0214ab1-d63a-4abb-b17b-7dbad78b201a",
   "metadata": {},
   "outputs": [],
   "source": [
    "arr1"
   ]
  },
  {
   "cell_type": "code",
   "execution_count": null,
   "id": "35be85c0-c080-40bf-be7e-444ef6f43e47",
   "metadata": {},
   "outputs": [],
   "source": [
    "arr2"
   ]
  },
  {
   "cell_type": "markdown",
   "id": "b0a708a5-7313-4fdf-a285-76e08ab6a465",
   "metadata": {},
   "source": [
    "Con np.concatenate prende gli elementi dell'array 1 e dell'array 2 e le concatena:"
   ]
  },
  {
   "cell_type": "code",
   "execution_count": null,
   "id": "315e4315-c4fa-4fc8-8b16-9131220e178c",
   "metadata": {},
   "outputs": [],
   "source": [
    "arr3 = np.concatenate((arr1,arr2))"
   ]
  },
  {
   "cell_type": "code",
   "execution_count": null,
   "id": "71d63780-23f5-421f-aa6c-3650ee59e4c5",
   "metadata": {},
   "outputs": [],
   "source": [
    "arr3"
   ]
  },
  {
   "cell_type": "markdown",
   "id": "9b9de74a-5245-441b-a1c6-f0cc43c49ec6",
   "metadata": {},
   "source": [
    "Ciò può essere fatto anche con gli array 2d:"
   ]
  },
  {
   "cell_type": "code",
   "execution_count": null,
   "id": "adefb2d5-18ae-4493-b43c-f008622dc9d7",
   "metadata": {},
   "outputs": [],
   "source": [
    "array2d1 = np.array([\n",
    "                    [1,2,3],\n",
    "                    [4,5,6]\n",
    "                    ])"
   ]
  },
  {
   "cell_type": "code",
   "execution_count": null,
   "id": "1cb84763-e8f1-4da7-90b3-be39f1b10aff",
   "metadata": {},
   "outputs": [],
   "source": [
    "array2d2 = np.array([\n",
    "                    [7,8,9],\n",
    "                    [10,11,12]\n",
    "                    ])"
   ]
  },
  {
   "cell_type": "code",
   "execution_count": null,
   "id": "804b6003-6864-4d82-a500-8b7a1974a0ce",
   "metadata": {},
   "outputs": [],
   "source": [
    "array2d1"
   ]
  },
  {
   "cell_type": "code",
   "execution_count": null,
   "id": "6ccdfcd7-a46e-4563-a023-a8a7e6f898d3",
   "metadata": {},
   "outputs": [],
   "source": [
    "array2d2"
   ]
  },
  {
   "cell_type": "code",
   "execution_count": null,
   "id": "91c144b9-1719-4465-a9f4-cc975837c168",
   "metadata": {},
   "outputs": [],
   "source": [
    "array2d3 = np.concatenate((array2d2,array2d1))"
   ]
  },
  {
   "cell_type": "code",
   "execution_count": null,
   "id": "0768b0fc-d7c0-4d82-a105-aee62277c235",
   "metadata": {},
   "outputs": [],
   "source": [
    "array2d3"
   ]
  },
  {
   "cell_type": "markdown",
   "id": "e9929bd7-8092-4efa-8b1b-9bb592757128",
   "metadata": {},
   "source": [
    "Possiamo anche specificare gli assi:"
   ]
  },
  {
   "cell_type": "code",
   "execution_count": null,
   "id": "a80036c8-ade0-4de2-bdc4-5be99bdfc67a",
   "metadata": {},
   "outputs": [],
   "source": [
    "array2d3 = np.concatenate((array2d2,array2d1), axis = 1)"
   ]
  },
  {
   "cell_type": "code",
   "execution_count": null,
   "id": "7d485830-2286-4388-ba15-cb0e1d84369c",
   "metadata": {},
   "outputs": [],
   "source": [
    "array2d3"
   ]
  },
  {
   "cell_type": "markdown",
   "id": "3fa229a7-699d-4dd7-af50-6bf929ed3fea",
   "metadata": {},
   "source": [
    "La funzione stack:\n",
    "\n",
    "- stack\n",
    "\n",
    "- hstack\n",
    "\n",
    "- vstack\n",
    "\n",
    "- dstack"
   ]
  },
  {
   "cell_type": "code",
   "execution_count": null,
   "id": "7b6a2ee9-3b61-4c98-b937-6237058cb01e",
   "metadata": {},
   "outputs": [],
   "source": [
    "arrayA = np.array([1,2,3])"
   ]
  },
  {
   "cell_type": "code",
   "execution_count": null,
   "id": "d7e7ee4e-b287-4425-a6fa-39095bbebc2a",
   "metadata": {},
   "outputs": [],
   "source": [
    "arrayB = np.array([4,5,6])"
   ]
  },
  {
   "cell_type": "code",
   "execution_count": null,
   "id": "b67df430-2444-4397-ad80-00297ed668d8",
   "metadata": {},
   "outputs": [],
   "source": [
    "arrayC = np.array([7,8,9])"
   ]
  },
  {
   "cell_type": "code",
   "execution_count": null,
   "id": "48057d8e-6a3a-4b44-964d-b60947066633",
   "metadata": {},
   "outputs": [],
   "source": [
    "np.concatenate((arrayA,arrayB,arrayC), axis = 0)"
   ]
  },
  {
   "cell_type": "markdown",
   "id": "6a027e3c-f3f1-46c7-b00c-3acfc43962be",
   "metadata": {},
   "source": [
    "Con stack creiamo a stackare un array, creando una dimensione aggiuntiva."
   ]
  },
  {
   "cell_type": "code",
   "execution_count": null,
   "id": "ccb67323-203b-46e6-9eb2-cc7932068b35",
   "metadata": {},
   "outputs": [],
   "source": [
    "np.stack((arrayA,arrayB,arrayC), axis = 0) #stackato gli elementi in base all'asse 0, ovvero l'index del primo array 1D."
   ]
  },
  {
   "cell_type": "code",
   "execution_count": null,
   "id": "11f259a7-9ac9-4714-95b9-15fde1f951b8",
   "metadata": {},
   "outputs": [],
   "source": [
    "np.stack((arrayA,arrayB,arrayC), axis =1) #stackato gli elementi in base all'asse 1, ovvero l'index 0 di ogni array 1D."
   ]
  },
  {
   "cell_type": "code",
   "execution_count": null,
   "id": "80d1ce19-ed42-40c7-8bb9-5939b69cb689",
   "metadata": {},
   "outputs": [],
   "source": [
    "np.hstack((arrayA,arrayB,arrayC)) #lo fa horizontal"
   ]
  },
  {
   "cell_type": "code",
   "execution_count": null,
   "id": "1b5373e4-5e33-4b31-952a-613cad0131e1",
   "metadata": {},
   "outputs": [],
   "source": [
    "np.vstack((arrayA,arrayB,arrayC)) #lo fa vertical"
   ]
  },
  {
   "cell_type": "code",
   "execution_count": null,
   "id": "ee6b2387-d5e2-4169-a813-e57650b07aa1",
   "metadata": {},
   "outputs": [],
   "source": [
    "np.dstack((arrayA,arrayB,arrayC)) #stacka gli eementi in base all'index 0 di ogni array 1D."
   ]
  },
  {
   "cell_type": "markdown",
   "id": "db29da38-afac-451e-836f-f2a88e8333cc",
   "metadata": {},
   "source": [
    "## Dividere un array"
   ]
  },
  {
   "cell_type": "markdown",
   "id": "4beaa975-0d16-485f-a9c4-e5109bfa5aac",
   "metadata": {},
   "source": [
    "Per gli assi 1D e 2D:\n",
    "\n",
    "- array_split\n",
    "- split"
   ]
  },
  {
   "cell_type": "code",
   "execution_count": null,
   "id": "951dc74c-79ad-45be-bfa5-366d1f2cad7f",
   "metadata": {},
   "outputs": [],
   "source": [
    "arr = np.arange (1,7)"
   ]
  },
  {
   "cell_type": "code",
   "execution_count": null,
   "id": "e1dff7df-fea7-41e8-a45a-ce0ccc331f7e",
   "metadata": {},
   "outputs": [],
   "source": [
    "arr"
   ]
  },
  {
   "cell_type": "code",
   "execution_count": null,
   "id": "a39a23ba-4c22-426c-9c68-3bad0d36d229",
   "metadata": {},
   "outputs": [],
   "source": [
    "np.split(arr,2)"
   ]
  },
  {
   "cell_type": "code",
   "execution_count": null,
   "id": "92824da9-7fb2-4b22-95a0-3ed78595baf3",
   "metadata": {},
   "outputs": [],
   "source": [
    "np.split(arr,3)"
   ]
  },
  {
   "cell_type": "markdown",
   "id": "fc4c7613-4fc3-41f3-b186-ddf3f4a00bd6",
   "metadata": {},
   "source": [
    "Con split non possiamo dividere gli array in qualcosa che non è una divisione eguale.\n",
    "\n",
    "Con split gli array saranno sempre divisi in maniera uguale."
   ]
  },
  {
   "cell_type": "code",
   "execution_count": null,
   "id": "835b2560-4ff8-4df3-8a1e-6bd679482ab0",
   "metadata": {},
   "outputs": [],
   "source": [
    "np.split(arr,4)"
   ]
  },
  {
   "cell_type": "markdown",
   "id": "d6f18ee9-8097-4228-b9dd-15b32e2a7e8b",
   "metadata": {},
   "source": [
    "Questo problema può essere risolto con array_split(), perchè nel momento in cui la divisione non è uguale lui riesce a dividere anche in array ineguali."
   ]
  },
  {
   "cell_type": "code",
   "execution_count": null,
   "id": "32cb1ca6-0ef2-45e7-8acc-b62b9654c04c",
   "metadata": {},
   "outputs": [],
   "source": [
    "arr = np.array_split(arr,4)\n",
    "\n",
    "arr"
   ]
  },
  {
   "cell_type": "markdown",
   "id": "32ad9a56-f33e-41da-9e4c-158ad32da01e",
   "metadata": {},
   "source": [
    "Se volessimoa accederea gli array interni:"
   ]
  },
  {
   "cell_type": "code",
   "execution_count": null,
   "id": "d2420108-fe74-4251-9ee4-d0b4164a9ce3",
   "metadata": {},
   "outputs": [],
   "source": [
    "arr[2]"
   ]
  },
  {
   "cell_type": "code",
   "execution_count": null,
   "id": "b70c156f-7d13-47e5-baeb-63cc6bf94172",
   "metadata": {},
   "outputs": [],
   "source": [
    "arr[0]"
   ]
  },
  {
   "cell_type": "code",
   "execution_count": null,
   "id": "62fda9e9-fb15-4f87-8697-40f5ffdc2b0b",
   "metadata": {},
   "outputs": [],
   "source": [
    "Per quanto riguarda gli array 2D:"
   ]
  },
  {
   "cell_type": "code",
   "execution_count": null,
   "id": "36b6b9bd-2a9a-4048-9d44-f6688d732fdd",
   "metadata": {},
   "outputs": [],
   "source": [
    "arr2D = np.array([[1,2,3],\n",
    "                  [4,5,6],\n",
    "                  [7,8,9]\n",
    "                 ])"
   ]
  },
  {
   "cell_type": "code",
   "execution_count": null,
   "id": "1125057e-2369-451b-9993-c36c85e04f78",
   "metadata": {},
   "outputs": [],
   "source": [
    "arr2D"
   ]
  },
  {
   "cell_type": "code",
   "execution_count": null,
   "id": "8a1cace8-97cb-4ccb-a9a5-396a34369110",
   "metadata": {},
   "outputs": [],
   "source": [
    "np.array_split(arr2D,2, axis = 0) # con axis = 0 gli array iniziano a partire dal valore corrispondentea all'index 0"
   ]
  },
  {
   "cell_type": "code",
   "execution_count": null,
   "id": "1070d61b-4e5e-4441-80ef-ddef7b480cb0",
   "metadata": {},
   "outputs": [],
   "source": [
    "np.array_split(arr2D,2, axis = 1) #con axis = 1 gli arrai iniziano con gli indici a partire dagli indici del primo array 1D"
   ]
  },
  {
   "cell_type": "code",
   "execution_count": null,
   "id": "c40967f8-5805-4f14-995c-78fd13356dd5",
   "metadata": {},
   "outputs": [],
   "source": [
    "arr = np.array([[[1,2,3],[4,5,6,]],[[7,8,9],[10,11,12]],[[13,14,15],[16,17,18]]])"
   ]
  },
  {
   "cell_type": "code",
   "execution_count": null,
   "id": "fdee9e95-36ff-48e2-8c72-1beed346afc0",
   "metadata": {},
   "outputs": [],
   "source": [
    "arr.ndim"
   ]
  },
  {
   "cell_type": "code",
   "execution_count": null,
   "id": "6a03989f-988f-4441-8e45-58790aeff393",
   "metadata": {},
   "outputs": [],
   "source": [
    "print(arr)"
   ]
  },
  {
   "cell_type": "code",
   "execution_count": null,
   "id": "b5eca57d-14e5-45ce-b534-f4d31d85776f",
   "metadata": {},
   "outputs": [],
   "source": [
    "np.vsplit(arr,3) #splitto sull'asse verticale"
   ]
  },
  {
   "cell_type": "code",
   "execution_count": null,
   "id": "1809e372-deaa-434c-b318-0869c91ba8ff",
   "metadata": {},
   "outputs": [],
   "source": [
    "np.hsplit(arr,2) #splitto sull'asse orizzontale"
   ]
  },
  {
   "cell_type": "code",
   "execution_count": null,
   "id": "9ff6d55f-c280-422a-b08c-85aa57a51725",
   "metadata": {},
   "outputs": [],
   "source": [
    "np.dsplit(arr,3) "
   ]
  },
  {
   "cell_type": "markdown",
   "id": "f55bb592-751f-44d8-9403-d453f44862b5",
   "metadata": {
    "jp-MarkdownHeadingCollapsed": true
   },
   "source": [
    "## Come cercare, ordinare e filtrare in un array: \n",
    "\n",
    "- np.where\n",
    "- sort\n",
    "- filter"
   ]
  },
  {
   "cell_type": "code",
   "execution_count": null,
   "id": "acdf6dd3-efe9-49b5-af06-ced8f5f0c9e8",
   "metadata": {},
   "outputs": [],
   "source": [
    "arr = np.array([1,2,2,3,3,3,4,5,6,6,7,3,4,5,9])"
   ]
  },
  {
   "cell_type": "code",
   "execution_count": null,
   "id": "da19545e-216b-4eba-8b84-a7cf4b1482d5",
   "metadata": {},
   "outputs": [],
   "source": [
    "arr"
   ]
  },
  {
   "cell_type": "markdown",
   "id": "fd8b32b8-6712-4b3b-8005-bfb8f2019a1c",
   "metadata": {},
   "source": [
    "- np.where()"
   ]
  },
  {
   "cell_type": "code",
   "execution_count": null,
   "id": "d5d88e81-6bf0-4cb5-a38a-c968a6410eae",
   "metadata": {},
   "outputs": [],
   "source": [
    "np.where(arr == 3)"
   ]
  },
  {
   "cell_type": "code",
   "execution_count": null,
   "id": "98590848-1265-4f41-ae81-9f3b64b066d0",
   "metadata": {},
   "outputs": [],
   "source": [
    "np.where(arr%2 == 0)"
   ]
  },
  {
   "cell_type": "markdown",
   "id": "cedcb010-3ae4-4d82-8b6d-086079e842a1",
   "metadata": {},
   "source": [
    "- np.sort()"
   ]
  },
  {
   "cell_type": "code",
   "execution_count": null,
   "id": "4511c88a-49c1-4789-91c1-1faba0078316",
   "metadata": {},
   "outputs": [],
   "source": [
    "np.sort(arr)"
   ]
  },
  {
   "cell_type": "code",
   "execution_count": null,
   "id": "988e53fc-7c7a-4c4e-a11a-05e8374b4aa5",
   "metadata": {},
   "outputs": [],
   "source": [
    "arr2 = np.array([\n",
    "                [3,2,1,4],\n",
    "                [5,3,5,3],\n",
    "                [1,0,4,9]\n",
    "                ])"
   ]
  },
  {
   "cell_type": "code",
   "execution_count": null,
   "id": "26c5ba0b-ba1f-4685-b268-81bb15f37fc5",
   "metadata": {},
   "outputs": [],
   "source": [
    "arr2"
   ]
  },
  {
   "cell_type": "code",
   "execution_count": null,
   "id": "024244a8-1220-4510-b48a-85ed07b27aa6",
   "metadata": {},
   "outputs": [],
   "source": [
    "np.sort(arr2)"
   ]
  },
  {
   "cell_type": "markdown",
   "id": "0828dc57-38cf-4f27-8ce6-a618c6c503e5",
   "metadata": {},
   "source": [
    "- np.filter()"
   ]
  },
  {
   "cell_type": "markdown",
   "id": "85e12311-585e-4851-aaa8-918ddf6b26c5",
   "metadata": {},
   "source": [
    "Creo un filtro per conoscere se i gli elementi all'interno dell'array sono numeri pari:"
   ]
  },
  {
   "cell_type": "code",
   "execution_count": null,
   "id": "4160b8f1-367e-45ab-ac0d-8c4030aae036",
   "metadata": {},
   "outputs": [],
   "source": [
    "filtro = []"
   ]
  },
  {
   "cell_type": "code",
   "execution_count": null,
   "id": "0d75eaea-f50c-4b06-8910-0b75965df44e",
   "metadata": {},
   "outputs": [],
   "source": [
    "for x in arr:\n",
    "    if x % 2 ==0:\n",
    "        filtro.append(True)\n",
    "    else:\n",
    "        filtro.append(False)"
   ]
  },
  {
   "cell_type": "code",
   "execution_count": null,
   "id": "a300bd1b-2ce0-41cf-bcf4-68a6ab2d73d7",
   "metadata": {},
   "outputs": [],
   "source": [
    "filtro"
   ]
  },
  {
   "cell_type": "markdown",
   "id": "dd557662-95e2-4a78-bc6e-fd5a3e64d405",
   "metadata": {},
   "source": [
    "Verifico che è vero:"
   ]
  },
  {
   "cell_type": "code",
   "execution_count": null,
   "id": "dc7b2bb7-8c10-4c94-82e6-0aa5ad95cbc5",
   "metadata": {},
   "outputs": [],
   "source": [
    "arrayfiltrato = arr[filtro]\n",
    "\n",
    "arrayfiltrato"
   ]
  },
  {
   "cell_type": "markdown",
   "id": "f8a38299-365e-40a8-8d6d-0fdf6793c71e",
   "metadata": {},
   "source": [
    "In maniera più semplice avrei potuto fare:"
   ]
  },
  {
   "cell_type": "code",
   "execution_count": null,
   "id": "e214ebc2-3eef-491f-9f41-4a1a4e571c16",
   "metadata": {},
   "outputs": [],
   "source": [
    "filtro = arr % 2 == 0"
   ]
  },
  {
   "cell_type": "code",
   "execution_count": null,
   "id": "26b6780e-ca88-44e3-99fb-9dc9804674d3",
   "metadata": {},
   "outputs": [],
   "source": [
    "arr[filtro]"
   ]
  },
  {
   "cell_type": "markdown",
   "id": "d51b2ed8-8dc2-4f83-bd15-f5738e29b6aa",
   "metadata": {},
   "source": [
    "## La classe random"
   ]
  },
  {
   "cell_type": "markdown",
   "id": "7f225952-0b54-4fb2-8e5d-a9875a86e274",
   "metadata": {},
   "source": [
    "Come generare array con numeri casuali:"
   ]
  },
  {
   "cell_type": "code",
   "execution_count": null,
   "id": "6fed3749-bb59-4a10-af6d-509aef21704f",
   "metadata": {},
   "outputs": [],
   "source": [
    "from numpy import random"
   ]
  },
  {
   "cell_type": "markdown",
   "id": "929753fd-3737-4b63-83e8-ad8c10295a78",
   "metadata": {},
   "source": [
    "Creare un numero intero compreso tra 0 e 100:\n",
    "- random.randint()"
   ]
  },
  {
   "cell_type": "code",
   "execution_count": null,
   "id": "b7864b8b-7928-4da2-a38c-8b00711fd796",
   "metadata": {},
   "outputs": [],
   "source": [
    "x = random.randint(100)\n",
    "\n",
    "x"
   ]
  },
  {
   "cell_type": "markdown",
   "id": "7ffa3f17-9dea-496f-8fd5-fed7cd4a180b",
   "metadata": {},
   "source": [
    "Creare un numero compreso tra 0 e 1:\n",
    "- random.rand() -> è automaticamente tra 0 e 1, specificando un numero dici quanti numeri compresi tra 0 e 1 mettere nell'array"
   ]
  },
  {
   "cell_type": "code",
   "execution_count": null,
   "id": "bd176ee2-63f2-4eef-8d5a-96431d16e7fe",
   "metadata": {},
   "outputs": [],
   "source": [
    "y = random.rand()\n",
    "\n",
    "y"
   ]
  },
  {
   "cell_type": "code",
   "execution_count": null,
   "id": "25e368c1-ec32-4ef1-9994-1ca349df2e0b",
   "metadata": {},
   "outputs": [],
   "source": [
    "random.rand(4)"
   ]
  },
  {
   "cell_type": "code",
   "execution_count": null,
   "id": "9cdcf111-ff35-42ac-9b54-7a9009af6f8f",
   "metadata": {},
   "outputs": [],
   "source": [
    "random.rand(8)"
   ]
  },
  {
   "cell_type": "code",
   "execution_count": null,
   "id": "d0d60298-b17c-46e1-a9e3-77f9c1e78d64",
   "metadata": {},
   "outputs": [],
   "source": [
    "random.rand(1,3,9)"
   ]
  },
  {
   "cell_type": "markdown",
   "id": "c1368906-97ea-4f94-a2e5-5ff6e8728589",
   "metadata": {},
   "source": [
    "Usiamo queste funzionalità per creare array di n dimensioni con numeri random:"
   ]
  },
  {
   "cell_type": "markdown",
   "id": "86593509-d368-4bf1-9a27-dcb7699e5a18",
   "metadata": {},
   "source": [
    "Per scegliere quante dimensioni in size basta inserire il numero:\n",
    "- per 1D solo un numero size = (5)\n",
    "- per 2D due numeri size = (3,2)\n",
    "- per 3D tre numeri size = (3,2,2)"
   ]
  },
  {
   "cell_type": "code",
   "execution_count": null,
   "id": "eb6299ae-07f7-48bb-9cb7-7d2bf8d47edf",
   "metadata": {},
   "outputs": [],
   "source": [
    "arr = random.randint(1000,      #elementi compresi tra 0 e 100\n",
    "                     size=(5)) #array di 15 valori"
   ]
  },
  {
   "cell_type": "code",
   "execution_count": null,
   "id": "3de711ef-3aea-4fa8-8643-bd97b00d6d45",
   "metadata": {},
   "outputs": [],
   "source": [
    "arr"
   ]
  },
  {
   "cell_type": "code",
   "execution_count": null,
   "id": "7af6d1dd-69d1-4c49-8778-0a2af71002eb",
   "metadata": {},
   "outputs": [],
   "source": [
    "arr2D = random.randint(100,\n",
    "                       size = (2,3))"
   ]
  },
  {
   "cell_type": "code",
   "execution_count": null,
   "id": "f5787ec1-02e1-4940-b69d-8bfb592dde34",
   "metadata": {},
   "outputs": [],
   "source": [
    "arr2D"
   ]
  },
  {
   "cell_type": "code",
   "execution_count": null,
   "id": "3b87f419-4a99-497a-bb30-ba3d6b49f820",
   "metadata": {},
   "outputs": [],
   "source": [
    "arr3D = random.randint(290,\n",
    "                       size = (2,2,3))"
   ]
  },
  {
   "cell_type": "code",
   "execution_count": null,
   "id": "1822edac-972c-44e0-abbf-3e6c54e39a5d",
   "metadata": {},
   "outputs": [],
   "source": [
    "arr3D"
   ]
  },
  {
   "cell_type": "code",
   "execution_count": null,
   "id": "c33c16bd-7f25-4009-9400-f8d21af2723b",
   "metadata": {},
   "outputs": [],
   "source": [
    "arr = np.array([1,2,3,4,5,6])"
   ]
  },
  {
   "cell_type": "code",
   "execution_count": null,
   "id": "e3d0ff56-a01e-4def-8f8d-18e1ab481989",
   "metadata": {},
   "outputs": [],
   "source": [
    "random.choice(arr) # sceglie un numero a caso compreso nell'array"
   ]
  },
  {
   "cell_type": "code",
   "execution_count": null,
   "id": "6f46a217-6ee6-4b62-83b0-030b58fee2ab",
   "metadata": {},
   "outputs": [],
   "source": [
    "random.choice(arr) # ogni volta sarà diverso"
   ]
  },
  {
   "cell_type": "code",
   "execution_count": null,
   "id": "36a24148-613d-4413-8254-30a8b54e3946",
   "metadata": {},
   "outputs": [],
   "source": [
    "arrchoice = random.choice(arr, size = (5,3,3)) #crea un array tridimensionali, con una size ben definita."
   ]
  },
  {
   "cell_type": "code",
   "execution_count": null,
   "id": "ef4b7874-b49c-4cef-882c-4157083da47e",
   "metadata": {},
   "outputs": [],
   "source": [
    "arrchoice"
   ]
  },
  {
   "cell_type": "markdown",
   "id": "4f65408e-facd-4e7a-8176-7556d81f1372",
   "metadata": {},
   "source": [
    "Data distribution"
   ]
  },
  {
   "cell_type": "code",
   "execution_count": null,
   "id": "afbb56f0-35a9-4ccb-9bb4-a60bf667b73d",
   "metadata": {},
   "outputs": [],
   "source": [
    "values = np.array([10,20,30,40,50])"
   ]
  },
  {
   "cell_type": "code",
   "execution_count": null,
   "id": "92e95b0c-2c0e-4fe2-9ab4-2a20c1add35e",
   "metadata": {},
   "outputs": [],
   "source": [
    "values"
   ]
  },
  {
   "cell_type": "code",
   "execution_count": null,
   "id": "521a55a3-6a77-4c34-938f-1c06a9e42f60",
   "metadata": {},
   "outputs": [],
   "source": [
    "probability = np.array([0.1,0.2,0.2,0.3,0.2])"
   ]
  },
  {
   "cell_type": "code",
   "execution_count": null,
   "id": "b31ed0e4-205a-4361-8c27-f5a4281b56cb",
   "metadata": {},
   "outputs": [],
   "source": [
    "arrchoice = random.choice(values, p = probability, size = (20))"
   ]
  },
  {
   "cell_type": "code",
   "execution_count": null,
   "id": "232d8e7d-cdec-4920-a8c3-a5f8d4f61c16",
   "metadata": {},
   "outputs": [],
   "source": [
    "arrchoice"
   ]
  },
  {
   "cell_type": "markdown",
   "id": "8b70341b-6601-4894-8702-6d468c31d90c",
   "metadata": {},
   "source": [
    "Shuffle agisce sull'array, invertendo i valori senza bisogno di assegnarlo ad un array."
   ]
  },
  {
   "cell_type": "code",
   "execution_count": null,
   "id": "2d7ca721-dfc7-42da-88ed-647acc3cd13f",
   "metadata": {},
   "outputs": [],
   "source": [
    "random.shuffle(values)"
   ]
  },
  {
   "cell_type": "code",
   "execution_count": null,
   "id": "ab018929-f5df-4d9b-b8b0-989af01fc9b9",
   "metadata": {},
   "outputs": [],
   "source": [
    "values"
   ]
  },
  {
   "cell_type": "markdown",
   "id": "c7879401-7ca4-4b35-a0ef-46116459a9e2",
   "metadata": {},
   "source": [
    "Permutation invece non agisce sull'array, in quanto deve essere assegnato ad un nuovo array"
   ]
  },
  {
   "cell_type": "code",
   "execution_count": null,
   "id": "bc1ff6b5-2665-4902-86d3-7ee073934526",
   "metadata": {},
   "outputs": [],
   "source": [
    "values_permutation = random.permutation(values)"
   ]
  },
  {
   "cell_type": "code",
   "execution_count": null,
   "id": "0edb6edf-242a-4765-9f19-488e02501ca1",
   "metadata": {},
   "outputs": [],
   "source": [
    "values_permutation"
   ]
  },
  {
   "cell_type": "markdown",
   "id": "c9f947bb-1b5d-4cbf-a0cc-c2a07453395c",
   "metadata": {},
   "source": [
    "In conclusione di base, permutation() e shuffle() fanno la stessa cosa, ma in modo diverso."
   ]
  },
  {
   "cell_type": "markdown",
   "id": "20325559-3bea-454a-80db-c087828ffe64",
   "metadata": {},
   "source": [
    "## ufunc() - Funzioni universali:\n",
    "\n",
    "Le funzioni universali ci permettono di effettuare funzioni aritmetiche sugli np.array"
   ]
  },
  {
   "cell_type": "markdown",
   "id": "303165d6-99ad-48ff-8a70-2193b5f49793",
   "metadata": {},
   "source": [
    "Per esempio controlliamo il type di una ufunc come add:"
   ]
  },
  {
   "cell_type": "code",
   "execution_count": null,
   "id": "6a5aac3a-038c-4a70-b4b7-8efea9d4a3e9",
   "metadata": {},
   "outputs": [],
   "source": [
    "type(np.add)"
   ]
  },
  {
   "cell_type": "markdown",
   "id": "76b9ccb7-fb43-40da-a21c-17642062409c",
   "metadata": {},
   "source": [
    "Controlliamo il type di concatenate che non è una ufunc:"
   ]
  },
  {
   "cell_type": "code",
   "execution_count": null,
   "id": "753834fd-73da-47e4-bc74-8db40868844a",
   "metadata": {},
   "outputs": [],
   "source": [
    "type(np.concatenate)"
   ]
  },
  {
   "cell_type": "markdown",
   "id": "ee02dde5-8aa1-49d6-a01f-b05552f54bbc",
   "metadata": {},
   "source": [
    "Provo a creare una mia ufunc()"
   ]
  },
  {
   "cell_type": "code",
   "execution_count": null,
   "id": "9c0142da-9bf0-4022-8b67-ea06639b560c",
   "metadata": {},
   "outputs": [],
   "source": [
    "def addcinque(x):\n",
    "    return x +5"
   ]
  },
  {
   "cell_type": "code",
   "execution_count": null,
   "id": "fe9f76d6-bb38-4248-bc9a-8a3da133a377",
   "metadata": {},
   "outputs": [],
   "source": [
    "addcinque = np.frompyfunc(addcinque,1,1) #registro la funzione"
   ]
  },
  {
   "cell_type": "code",
   "execution_count": null,
   "id": "e1f40aa4-abef-4f1c-87da-36b1d522c8ca",
   "metadata": {},
   "outputs": [],
   "source": [
    "arr = np.array([1,2,6,7,3,2,3,0])"
   ]
  },
  {
   "cell_type": "code",
   "execution_count": null,
   "id": "f37b3cf5-bc3f-4e3e-873d-13bed1aa3620",
   "metadata": {},
   "outputs": [],
   "source": [
    "addcinque(arr)"
   ]
  },
  {
   "cell_type": "markdown",
   "id": "87719b5b-9cf4-4c85-8ed8-aadf262260f6",
   "metadata": {},
   "source": [
    "Queste sono alcuen ufunc() che abbiamo a disposizione in numpy:"
   ]
  },
  {
   "cell_type": "code",
   "execution_count": null,
   "id": "98341f0c-66b6-46a2-9bfe-a5393bd2f68a",
   "metadata": {},
   "outputs": [],
   "source": [
    "arr1 = np.array([1,2,3,4,5,6])\n",
    "arr2 = np.array([7,8,9,10,11,12])"
   ]
  },
  {
   "cell_type": "markdown",
   "id": "6049030a-0dd1-4597-9ac2-9cfce48fff9b",
   "metadata": {},
   "source": [
    "Addizionare con np.add()"
   ]
  },
  {
   "cell_type": "code",
   "execution_count": null,
   "id": "270c5972-f427-4997-918c-4a9b1595c01f",
   "metadata": {},
   "outputs": [],
   "source": [
    "arr = np.add(arr1,arr2)"
   ]
  },
  {
   "cell_type": "markdown",
   "id": "e284e548-268f-4d78-a4ef-e36c0082b58d",
   "metadata": {},
   "source": [
    "Sottrarre con np.subtract()"
   ]
  },
  {
   "cell_type": "code",
   "execution_count": null,
   "id": "34788c7d-d961-4c35-8741-3fd2a4197cb6",
   "metadata": {},
   "outputs": [],
   "source": [
    "np.subtract(arr1,arr2)"
   ]
  },
  {
   "cell_type": "markdown",
   "id": "3a11a71b-1b1e-4b55-9733-f261c2c4b72b",
   "metadata": {},
   "source": [
    "Moltiplicare con np.multiply()"
   ]
  },
  {
   "cell_type": "code",
   "execution_count": null,
   "id": "6a0fedb9-06cc-4133-a64c-e5344164365e",
   "metadata": {},
   "outputs": [],
   "source": [
    "np.multiply(arr1,arr2)"
   ]
  },
  {
   "cell_type": "markdown",
   "id": "5031f265-4824-4c8a-9534-89a1a2daa71c",
   "metadata": {},
   "source": [
    "Dividere con np.divide()"
   ]
  },
  {
   "cell_type": "code",
   "execution_count": null,
   "id": "cb04cb9e-0940-4461-9551-1686810601d4",
   "metadata": {},
   "outputs": [],
   "source": [
    "np.divide(arr1,arr2)"
   ]
  },
  {
   "cell_type": "markdown",
   "id": "988ef355-9d2f-48c9-975a-65e0c7214d03",
   "metadata": {},
   "source": [
    "Elevare alla potenza con np.power()"
   ]
  },
  {
   "cell_type": "code",
   "execution_count": null,
   "id": "62abaff2-41aa-47aa-ae29-f56a0f745979",
   "metadata": {},
   "outputs": [],
   "source": [
    "np.power(arr1,arr2)"
   ]
  },
  {
   "cell_type": "markdown",
   "id": "1575e699-0f3c-452d-a073-a813b675a794",
   "metadata": {},
   "source": [
    "Resto della divisione con np.remainder()"
   ]
  },
  {
   "cell_type": "code",
   "execution_count": null,
   "id": "03e44fea-3bcb-49b1-a571-2cf7e10791d4",
   "metadata": {},
   "outputs": [],
   "source": [
    "np.remainder(arr1,arr2)"
   ]
  },
  {
   "cell_type": "markdown",
   "id": "181906dc-953a-47d1-8ad7-dfa7b7d24ec8",
   "metadata": {},
   "source": [
    "Troncare il decimale con np.trunc()"
   ]
  },
  {
   "cell_type": "code",
   "execution_count": null,
   "id": "c6469de3-b95f-475d-898d-17d6e44cc032",
   "metadata": {},
   "outputs": [],
   "source": [
    "np.trunc([2.2323, 4.9329])"
   ]
  },
  {
   "cell_type": "markdown",
   "id": "7ffe1391-a230-4bf9-a57b-52414b3b2997",
   "metadata": {},
   "source": [
    "Togliere le virgole con np.fix()"
   ]
  },
  {
   "cell_type": "code",
   "execution_count": null,
   "id": "e86b59c3-1d44-47f5-95c0-f8b685abde5d",
   "metadata": {},
   "outputs": [],
   "source": [
    "np.fix([4.231,7.32])"
   ]
  },
  {
   "cell_type": "markdown",
   "id": "d97eb940-20ad-4309-9c1b-3a4d464ddba0",
   "metadata": {},
   "source": [
    "Arrotondare con np.around()"
   ]
  },
  {
   "cell_type": "code",
   "execution_count": null,
   "id": "7d95b8f0-5204-4cba-bd4e-1e6e240e1776",
   "metadata": {},
   "outputs": [],
   "source": [
    "np.around([5.213,8.131])"
   ]
  },
  {
   "cell_type": "markdown",
   "id": "8a5f7dc3-8816-4986-a6b3-960f67398af3",
   "metadata": {},
   "source": [
    "FINE"
   ]
  },
  {
   "cell_type": "code",
   "execution_count": null,
   "id": "4128162c-f865-4802-9af4-6ec23dfe6691",
   "metadata": {},
   "outputs": [],
   "source": []
  }
 ],
 "metadata": {
  "kernelspec": {
   "display_name": "Course0.9",
   "language": "python",
   "name": "course0.9"
  },
  "language_info": {
   "codemirror_mode": {
    "name": "ipython",
    "version": 3
   },
   "file_extension": ".py",
   "mimetype": "text/x-python",
   "name": "python",
   "nbconvert_exporter": "python",
   "pygments_lexer": "ipython3",
   "version": "3.8.10"
  }
 },
 "nbformat": 4,
 "nbformat_minor": 5
}
