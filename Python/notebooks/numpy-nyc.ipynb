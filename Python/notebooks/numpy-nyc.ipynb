{
 "cells": [
  {
   "cell_type": "code",
   "execution_count": 4,
   "id": "1092c034-a4d1-4176-b7a9-5b6eb576112f",
   "metadata": {},
   "outputs": [],
   "source": [
    "import pandas as pd\n",
    "import numpy as np"
   ]
  },
  {
   "cell_type": "code",
   "execution_count": 18,
   "id": "a8dafa92-f429-411c-a761-35beb6fa3d4c",
   "metadata": {},
   "outputs": [],
   "source": [
    "#genero da un file di testo (csv) un array, skippando l'header che nel caso di un array sarebbero valori nulli:\n",
    "\n",
    "taxi = np.genfromtxt('nyc_taxis.csv', delimiter = ',', skip_header= True)"
   ]
  },
  {
   "cell_type": "code",
   "execution_count": 19,
   "id": "178f496d-5a17-457d-9984-9bbabb08faa8",
   "metadata": {},
   "outputs": [
    {
     "data": {
      "text/plain": [
       "array([[2.016e+03, 1.000e+00, 1.000e+00, ..., 1.165e+01, 6.999e+01,\n",
       "        1.000e+00],\n",
       "       [2.016e+03, 1.000e+00, 1.000e+00, ..., 8.000e+00, 5.430e+01,\n",
       "        1.000e+00],\n",
       "       [2.016e+03, 1.000e+00, 1.000e+00, ..., 0.000e+00, 3.780e+01,\n",
       "        2.000e+00],\n",
       "       ...,\n",
       "       [2.016e+03, 6.000e+00, 3.000e+01, ..., 5.000e+00, 6.334e+01,\n",
       "        1.000e+00],\n",
       "       [2.016e+03, 6.000e+00, 3.000e+01, ..., 8.950e+00, 4.475e+01,\n",
       "        1.000e+00],\n",
       "       [2.016e+03, 6.000e+00, 3.000e+01, ..., 0.000e+00, 5.484e+01,\n",
       "        2.000e+00]])"
      ]
     },
     "execution_count": 19,
     "metadata": {},
     "output_type": "execute_result"
    }
   ],
   "source": [
    "taxi"
   ]
  },
  {
   "cell_type": "markdown",
   "id": "94bea32f-f14e-4a7e-bdec-0ce859221308",
   "metadata": {},
   "source": [
    "## What is the mean speed of the car rides?"
   ]
  },
  {
   "cell_type": "code",
   "execution_count": 40,
   "id": "31b21658-c7c1-4aab-9ed4-e2c53c2b847d",
   "metadata": {},
   "outputs": [
    {
     "data": {
      "text/plain": [
       "32.24258580925573"
      ]
     },
     "execution_count": 40,
     "metadata": {},
     "output_type": "execute_result"
    }
   ],
   "source": [
    "# velocità = spazio / tempo -> (trip_dist / trip_length)\n",
    "\n",
    "# Poi faccio la media, facendo .mean()\n",
    "\n",
    "(taxi[:, 7] / (taxi[:, 8]/3600)).mean()"
   ]
  },
  {
   "cell_type": "code",
   "execution_count": 22,
   "id": "3ca79cdd-d3ea-4179-a4b7-cc1e897d53a0",
   "metadata": {},
   "outputs": [],
   "source": [
    "import pandas as pd"
   ]
  },
  {
   "cell_type": "code",
   "execution_count": 36,
   "id": "0034e356-f87b-49e1-8f60-f57fe432618d",
   "metadata": {},
   "outputs": [],
   "source": [
    "speed_df = pd.DataFrame(speed)"
   ]
  },
  {
   "cell_type": "code",
   "execution_count": 37,
   "id": "77fe23dc-79b5-4d1d-b446-ca7aca51cad8",
   "metadata": {},
   "outputs": [
    {
     "data": {
      "text/html": [
       "<div>\n",
       "<style scoped>\n",
       "    .dataframe tbody tr th:only-of-type {\n",
       "        vertical-align: middle;\n",
       "    }\n",
       "\n",
       "    .dataframe tbody tr th {\n",
       "        vertical-align: top;\n",
       "    }\n",
       "\n",
       "    .dataframe thead th {\n",
       "        text-align: right;\n",
       "    }\n",
       "</style>\n",
       "<table border=\"1\" class=\"dataframe\">\n",
       "  <thead>\n",
       "    <tr style=\"text-align: right;\">\n",
       "      <th></th>\n",
       "      <th>speed</th>\n",
       "    </tr>\n",
       "  </thead>\n",
       "  <tbody>\n",
       "    <tr>\n",
       "      <th>0</th>\n",
       "      <td>37.113402</td>\n",
       "    </tr>\n",
       "    <tr>\n",
       "      <th>1</th>\n",
       "      <td>38.581579</td>\n",
       "    </tr>\n",
       "    <tr>\n",
       "      <th>2</th>\n",
       "      <td>31.272230</td>\n",
       "    </tr>\n",
       "    <tr>\n",
       "      <th>3</th>\n",
       "      <td>25.884298</td>\n",
       "    </tr>\n",
       "    <tr>\n",
       "      <th>4</th>\n",
       "      <td>26.371542</td>\n",
       "    </tr>\n",
       "    <tr>\n",
       "      <th>...</th>\n",
       "      <td>...</td>\n",
       "    </tr>\n",
       "    <tr>\n",
       "      <th>89555</th>\n",
       "      <td>17.194570</td>\n",
       "    </tr>\n",
       "    <tr>\n",
       "      <th>89556</th>\n",
       "      <td>30.101351</td>\n",
       "    </tr>\n",
       "    <tr>\n",
       "      <th>89557</th>\n",
       "      <td>22.299079</td>\n",
       "    </tr>\n",
       "    <tr>\n",
       "      <th>89558</th>\n",
       "      <td>42.415512</td>\n",
       "    </tr>\n",
       "    <tr>\n",
       "      <th>89559</th>\n",
       "      <td>36.904734</td>\n",
       "    </tr>\n",
       "  </tbody>\n",
       "</table>\n",
       "<p>89560 rows × 1 columns</p>\n",
       "</div>"
      ],
      "text/plain": [
       "           speed\n",
       "0      37.113402\n",
       "1      38.581579\n",
       "2      31.272230\n",
       "3      25.884298\n",
       "4      26.371542\n",
       "...          ...\n",
       "89555  17.194570\n",
       "89556  30.101351\n",
       "89557  22.299079\n",
       "89558  42.415512\n",
       "89559  36.904734\n",
       "\n",
       "[89560 rows x 1 columns]"
      ]
     },
     "execution_count": 37,
     "metadata": {},
     "output_type": "execute_result"
    }
   ],
   "source": [
    "speed_df.rename(columns={0:'speed'})"
   ]
  },
  {
   "cell_type": "markdown",
   "id": "ce60e607-cc26-4f0b-ab15-76a0c8682c6f",
   "metadata": {},
   "source": [
    "## Number of rides taken in febraury"
   ]
  },
  {
   "cell_type": "code",
   "execution_count": 41,
   "id": "067daa45-255d-4cd3-9179-c0458c2168b4",
   "metadata": {},
   "outputs": [],
   "source": [
    "# Devo vedere quante volte nella colonna del mese (pickup_month) c'è febbraio (1):"
   ]
  },
  {
   "cell_type": "code",
   "execution_count": 56,
   "id": "7f760fee-3d8d-462e-adb9-4cc86c1735ba",
   "metadata": {},
   "outputs": [],
   "source": [
    "bbas = taxi[taxi[:,1] == 2,1]"
   ]
  },
  {
   "cell_type": "code",
   "execution_count": 76,
   "id": "7a360e6f-42aa-4bcd-926d-c4bdb60d7be6",
   "metadata": {},
   "outputs": [
    {
     "data": {
      "text/plain": [
       "13333"
      ]
     },
     "execution_count": 76,
     "metadata": {},
     "output_type": "execute_result"
    }
   ],
   "source": [
    "len(bbas) #numero di giri fatti in febbrario."
   ]
  },
  {
   "cell_type": "code",
   "execution_count": 79,
   "id": "0796c0fa-8a2b-4585-9ee2-58e0fd3ee428",
   "metadata": {},
   "outputs": [
    {
     "data": {
      "text/plain": [
       "(13333,)"
      ]
     },
     "execution_count": 79,
     "metadata": {},
     "output_type": "execute_result"
    }
   ],
   "source": [
    "bbas.shape # stesso metodo di prima"
   ]
  },
  {
   "cell_type": "markdown",
   "id": "29754495-6a1d-42ae-9158-74fa1eb4ec81",
   "metadata": {},
   "source": [
    "## Number of rides where tip was more than 50$"
   ]
  },
  {
   "cell_type": "code",
   "execution_count": 85,
   "id": "60c774b2-c7fa-44ef-944a-2b08dd87c449",
   "metadata": {},
   "outputs": [],
   "source": [
    "hightip = taxi[taxi[:,12] > 50.00,12]"
   ]
  },
  {
   "cell_type": "code",
   "execution_count": 90,
   "id": "c83d417c-f472-44fe-82c6-d54e3dcdb395",
   "metadata": {},
   "outputs": [
    {
     "data": {
      "text/plain": [
       "16"
      ]
     },
     "execution_count": 90,
     "metadata": {},
     "output_type": "execute_result"
    }
   ],
   "source": [
    "len(hightip)"
   ]
  },
  {
   "cell_type": "markdown",
   "id": "6af41d36-7d3a-412c-b1c5-7865362a9e4a",
   "metadata": {},
   "source": [
    "## Number of rides where drop was JFK"
   ]
  },
  {
   "cell_type": "code",
   "execution_count": null,
   "id": "e5a3eb43-9da9-4c42-b3ff-dcac08261ee3",
   "metadata": {},
   "outputs": [],
   "source": [
    "#in the column dropoff_location JFK is 2"
   ]
  },
  {
   "cell_type": "code",
   "execution_count": 91,
   "id": "d521fbaa-7584-4f37-80e9-44ddd551628a",
   "metadata": {},
   "outputs": [],
   "source": [
    "bbas2 = taxi[taxi[:, -9] == 2, -9]"
   ]
  },
  {
   "cell_type": "code",
   "execution_count": 92,
   "id": "ff61d111-e2a5-4054-9f43-e95305dcc192",
   "metadata": {},
   "outputs": [
    {
     "data": {
      "text/plain": [
       "11832"
      ]
     },
     "execution_count": 92,
     "metadata": {},
     "output_type": "execute_result"
    }
   ],
   "source": [
    "len(bbas2)"
   ]
  },
  {
   "cell_type": "code",
   "execution_count": null,
   "id": "d952f325-a1e5-433e-84c9-1b8aec46d16d",
   "metadata": {},
   "outputs": [],
   "source": []
  }
 ],
 "metadata": {
  "kernelspec": {
   "display_name": "Course0.9",
   "language": "python",
   "name": "course0.9"
  },
  "language_info": {
   "codemirror_mode": {
    "name": "ipython",
    "version": 3
   },
   "file_extension": ".py",
   "mimetype": "text/x-python",
   "name": "python",
   "nbconvert_exporter": "python",
   "pygments_lexer": "ipython3",
   "version": "3.8.10"
  }
 },
 "nbformat": 4,
 "nbformat_minor": 5
}
